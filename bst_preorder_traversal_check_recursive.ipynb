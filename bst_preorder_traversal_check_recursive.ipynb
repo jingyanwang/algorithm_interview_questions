{
 "cells": [
  {
   "cell_type": "markdown",
   "id": "18a83eae",
   "metadata": {},
   "source": [
    "https://www.geeksforgeeks.org/check-if-a-given-array-can-represent-preorder-traversal-of-binary-search-tree/"
   ]
  },
  {
   "cell_type": "code",
   "execution_count": 1,
   "id": "0d2b1b55",
   "metadata": {},
   "outputs": [],
   "source": [
    "import sys"
   ]
  },
  {
   "cell_type": "code",
   "execution_count": 2,
   "id": "522be9c1",
   "metadata": {},
   "outputs": [],
   "source": [
    "def buildBST_helper(\n",
    "    n, \n",
    "    pre, \n",
    "    Min, \n",
    "    Max,\n",
    "    ):\n",
    "    \n",
    "    global preIndex\n",
    "    \n",
    "    if (preIndex >= n):\n",
    "        return \n",
    "    \n",
    "    if(\n",
    "        pre[preIndex] >= Min\n",
    "        and \n",
    "        pre[preIndex] <= Max\n",
    "        ):\n",
    "        \n",
    "        rootData = pre[preIndex]\n",
    "        preIndex += 1\n",
    "    \n",
    "        buildBST_helper(n, pre, Min, rootData)\n",
    "        buildBST_helper(n, pre, rootData, Max)"
   ]
  },
  {
   "cell_type": "code",
   "execution_count": 3,
   "id": "8a385ba1",
   "metadata": {},
   "outputs": [],
   "source": [
    "def canPresentBST(\n",
    "    arr,\n",
    "    N,\n",
    "    ):\n",
    "    \n",
    "    global preIndex\n",
    "    \n",
    "    Min, Max = -sys.maxsize, sys.maxsize\n",
    "    \n",
    "    buildBST_helper(N, arr, Min, Max)\n",
    "    \n",
    "    if preIndex == N:\n",
    "        return True\n",
    "    \n",
    "    return False"
   ]
  },
  {
   "cell_type": "code",
   "execution_count": 4,
   "id": "99d30c15",
   "metadata": {},
   "outputs": [
    {
     "name": "stdout",
     "output_type": "stream",
     "text": [
      "True\n"
     ]
    }
   ],
   "source": [
    "preorder1 = [ 2, 4, 3 ]\n",
    "n1 = len(preorder1)\n",
    "\n",
    "preIndex = 0\n",
    "print(canPresentBST(preorder1, n1))"
   ]
  },
  {
   "cell_type": "code",
   "execution_count": 5,
   "id": "9d6ac55a",
   "metadata": {},
   "outputs": [
    {
     "name": "stdout",
     "output_type": "stream",
     "text": [
      "False\n"
     ]
    }
   ],
   "source": [
    "preorder1 = [ 5, 3, 4, 1, 6, 10 ]\n",
    "n1 = len(preorder1)\n",
    "\n",
    "preIndex = 0\n",
    "\n",
    "print(canPresentBST(preorder1, n1))"
   ]
  },
  {
   "cell_type": "code",
   "execution_count": 6,
   "id": "2b7baeae",
   "metadata": {},
   "outputs": [
    {
     "name": "stdout",
     "output_type": "stream",
     "text": [
      "True\n"
     ]
    }
   ],
   "source": [
    "preorder1 = [ 5, 3, 4, 8, 6, 10 ]\n",
    "n1 = len(preorder1)\n",
    "\n",
    "preIndex = 0\n",
    "\n",
    "print(canPresentBST(preorder1, n1))"
   ]
  }
 ],
 "metadata": {
  "kernelspec": {
   "display_name": "Python 3 (ipykernel)",
   "language": "python",
   "name": "python3"
  },
  "language_info": {
   "codemirror_mode": {
    "name": "ipython",
    "version": 3
   },
   "file_extension": ".py",
   "mimetype": "text/x-python",
   "name": "python",
   "nbconvert_exporter": "python",
   "pygments_lexer": "ipython3",
   "version": "3.10.6"
  }
 },
 "nbformat": 4,
 "nbformat_minor": 5
}
