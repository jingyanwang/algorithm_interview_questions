{
 "cells": [
  {
   "cell_type": "markdown",
   "id": "1bd7a39f",
   "metadata": {},
   "source": [
    "https://www.geeksforgeeks.org/bottom-view-binary-tree/"
   ]
  },
  {
   "cell_type": "code",
   "execution_count": 1,
   "id": "20a8a5c3",
   "metadata": {},
   "outputs": [],
   "source": [
    "from collections import deque"
   ]
  },
  {
   "cell_type": "code",
   "execution_count": 2,
   "id": "c1634b1e",
   "metadata": {},
   "outputs": [],
   "source": [
    "class Node:\n",
    "    \n",
    "    def __init__(\n",
    "        self,\n",
    "        key,\n",
    "        ):\n",
    "        \n",
    "        self.data = key\n",
    "        self.hd = float('inf')\n",
    "        self.left = None\n",
    "        self.right = None"
   ]
  },
  {
   "cell_type": "code",
   "execution_count": 3,
   "id": "4ccc2a2e",
   "metadata": {},
   "outputs": [],
   "source": [
    "def bottomView(root):\n",
    "    \n",
    "    if root is None:\n",
    "        return None\n",
    "    \n",
    "    hd = 0\n",
    "    \n",
    "    min_hd, max_hd = 0, 0 \n",
    "    \n",
    "    q = deque()\n",
    "    hd_dict = dict()\n",
    "    \n",
    "    root.hd = hd\n",
    "    q.append(root)\n",
    "    \n",
    "    while(q):\n",
    "        \n",
    "        curr_node = q.popleft()\n",
    "        \n",
    "        hd = curr_node.hd\n",
    "        \n",
    "        min_hd = min(min_hd, hd)\n",
    "        max_hd = max(max_hd, hd)\n",
    "        \n",
    "        hd_dict[hd] = curr_node.data\n",
    "        \n",
    "        if curr_node.left:            \n",
    "            curr_node.left.hd = hd-1\n",
    "            q.append(curr_node.left)\n",
    "        \n",
    "        if curr_node.right:\n",
    "            curr_node.right.hd = hd+1\n",
    "            q.append(curr_node.right)\n",
    "        \n",
    "    for i in range(min_hd, max_hd+1):\n",
    "        print(hd_dict[i], end = \" \") "
   ]
  },
  {
   "cell_type": "code",
   "execution_count": 4,
   "id": "371400c4",
   "metadata": {},
   "outputs": [],
   "source": [
    "root = Node(20)\n",
    "root.left = Node(8)\n",
    "root.right = Node(22)\n",
    "root.left.left = Node(5)\n",
    "root.left.right = Node(3)\n",
    "root.right.left = Node(4)\n",
    "root.right.right = Node(25)\n",
    "root.left.right.left = Node(10)\n",
    "root.left.right.right = Node(14)"
   ]
  },
  {
   "cell_type": "code",
   "execution_count": 5,
   "id": "584b64cb",
   "metadata": {},
   "outputs": [
    {
     "name": "stdout",
     "output_type": "stream",
     "text": [
      "5 10 4 14 25 "
     ]
    }
   ],
   "source": [
    "bottomView(root)"
   ]
  },
  {
   "cell_type": "code",
   "execution_count": null,
   "id": "a9b837f7",
   "metadata": {},
   "outputs": [],
   "source": []
  }
 ],
 "metadata": {
  "kernelspec": {
   "display_name": "Python 3 (ipykernel)",
   "language": "python",
   "name": "python3"
  },
  "language_info": {
   "codemirror_mode": {
    "name": "ipython",
    "version": 3
   },
   "file_extension": ".py",
   "mimetype": "text/x-python",
   "name": "python",
   "nbconvert_exporter": "python",
   "pygments_lexer": "ipython3",
   "version": "3.10.6"
  }
 },
 "nbformat": 4,
 "nbformat_minor": 5
}
