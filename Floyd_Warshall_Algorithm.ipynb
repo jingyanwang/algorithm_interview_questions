{
 "cells": [
  {
   "cell_type": "markdown",
   "id": "906cad5d",
   "metadata": {},
   "source": [
    "https://www.geeksforgeeks.org/floyd-warshall-algorithm-dp-16/"
   ]
  },
  {
   "cell_type": "code",
   "execution_count": 1,
   "id": "4943fa8b",
   "metadata": {},
   "outputs": [],
   "source": [
    "V = 4"
   ]
  },
  {
   "cell_type": "code",
   "execution_count": 2,
   "id": "9fac5314",
   "metadata": {},
   "outputs": [],
   "source": [
    "INF = 99999"
   ]
  },
  {
   "cell_type": "code",
   "execution_count": 5,
   "id": "b09ccb92",
   "metadata": {},
   "outputs": [],
   "source": [
    "def printSolution(\n",
    "    dist,\n",
    "    ):\n",
    "    \n",
    "    for i in range(V):\n",
    "        for j in range(V):\n",
    "            if (dist[i][j] == INF):\n",
    "                print(\"%7s\"%(\"INF\"), end = \" \")\n",
    "            else:\n",
    "                print(\"%7d\\t\"%(dist[i][j]), end = \" \")\n",
    "            if j == V-1:\n",
    "                print()"
   ]
  },
  {
   "cell_type": "code",
   "execution_count": 6,
   "id": "73a76d21",
   "metadata": {},
   "outputs": [],
   "source": [
    "def floyWarshell(\n",
    "    graph,\n",
    "    ):\n",
    "    \n",
    "    dist  = list(\n",
    "        map(lambda i: \n",
    "               list(map(lambda j: j,i)), graph\n",
    "           )\n",
    "        )\n",
    "    \n",
    "    for k in range(V):\n",
    "        \n",
    "        for i in range(V):\n",
    "            for j in range(V):\n",
    "                if dist[i][j] > dist[i][k] + dist[k][j]:\n",
    "                    dist[i][j] = dist[i][k] + dist[k][j]\n",
    "    \n",
    "    printSolution(dist)\n",
    "    "
   ]
  },
  {
   "cell_type": "code",
   "execution_count": 9,
   "id": "8addcadd",
   "metadata": {},
   "outputs": [
    {
     "name": "stdout",
     "output_type": "stream",
     "text": [
      "      0\t       5\t       8\t       9\t \n",
      "    INF       0\t       3\t       4\t \n",
      "    INF     INF       0\t       1\t \n",
      "    INF     INF     INF       0\t \n"
     ]
    }
   ],
   "source": [
    "if __name__ == \"__main__\":\n",
    "    \n",
    "    graph = [[0, 5, INF, 10],\n",
    "    [INF, 0, 3, INF],\n",
    "    [INF, INF, 0,   1],\n",
    "    [INF, INF, INF, 0]\n",
    "    ]\n",
    "\n",
    "    floyWarshell(graph)"
   ]
  },
  {
   "cell_type": "code",
   "execution_count": null,
   "id": "537169ea",
   "metadata": {},
   "outputs": [],
   "source": []
  },
  {
   "cell_type": "code",
   "execution_count": null,
   "id": "0dfc71a9",
   "metadata": {},
   "outputs": [],
   "source": []
  },
  {
   "cell_type": "code",
   "execution_count": null,
   "id": "646207f7",
   "metadata": {},
   "outputs": [],
   "source": []
  }
 ],
 "metadata": {
  "kernelspec": {
   "display_name": "Python 3 (ipykernel)",
   "language": "python",
   "name": "python3"
  },
  "language_info": {
   "codemirror_mode": {
    "name": "ipython",
    "version": 3
   },
   "file_extension": ".py",
   "mimetype": "text/x-python",
   "name": "python",
   "nbconvert_exporter": "python",
   "pygments_lexer": "ipython3",
   "version": "3.10.6"
  }
 },
 "nbformat": 4,
 "nbformat_minor": 5
}
