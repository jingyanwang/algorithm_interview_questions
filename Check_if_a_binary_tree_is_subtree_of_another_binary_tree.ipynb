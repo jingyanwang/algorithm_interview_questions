{
 "cells": [
  {
   "cell_type": "markdown",
   "id": "f0026a13",
   "metadata": {},
   "source": [
    "https://www.geeksforgeeks.org/check-if-a-binary-tree-is-subtree-of-another-binary-tree/"
   ]
  },
  {
   "cell_type": "code",
   "execution_count": 1,
   "id": "7a8a91db",
   "metadata": {},
   "outputs": [],
   "source": [
    "class Node:\n",
    "    \n",
    "    def __init__(\n",
    "        self,\n",
    "        data,\n",
    "        ):\n",
    "        \n",
    "        self.data = data\n",
    "        self.left = None\n",
    "        self.right = None"
   ]
  },
  {
   "cell_type": "code",
   "execution_count": 2,
   "id": "d67638de",
   "metadata": {},
   "outputs": [],
   "source": [
    "T = Node(26)\n",
    "T.right = Node(3)\n",
    "T.right.right  = Node(3)\n",
    "T.left = Node(10)\n",
    "T.left.left = Node(4)\n",
    "T.left.left.right = Node(30)\n",
    "T.left.right = Node(6)"
   ]
  },
  {
   "cell_type": "code",
   "execution_count": 3,
   "id": "00cb7887",
   "metadata": {},
   "outputs": [],
   "source": [
    "S = Node(10)\n",
    "S.right = Node(6)\n",
    "S.left = Node(4)\n",
    "S.left.right = Node(30)"
   ]
  },
  {
   "cell_type": "code",
   "execution_count": 4,
   "id": "942e1f63",
   "metadata": {},
   "outputs": [],
   "source": [
    "def areIdentical(\n",
    "    root1,\n",
    "    root2,\n",
    "    ):\n",
    "    \n",
    "    if root1 is None and root2 is None:\n",
    "        return True\n",
    "    \n",
    "    if root1 is None or root2 is None:\n",
    "        return False\n",
    "    \n",
    "    if root1.data == root2.data \\\n",
    "        and areIdentical(root1.left, root2.left) \\\n",
    "        and areIdentical(root1.right, root2.right):\n",
    "        return True\n",
    "    else:\n",
    "        return False"
   ]
  },
  {
   "cell_type": "code",
   "execution_count": 5,
   "id": "da02791b",
   "metadata": {},
   "outputs": [],
   "source": [
    "def isSubTree(T, S):\n",
    "    \n",
    "    if S is None:\n",
    "        return True\n",
    "    \n",
    "    if T is None:\n",
    "        return False\n",
    "    \n",
    "    if areIdentical(T, S):\n",
    "        return True\n",
    "    \n",
    "    result = isSubTree(T.left, S) or isSubTree(T.right, S)\n",
    "    return result"
   ]
  },
  {
   "cell_type": "code",
   "execution_count": 6,
   "id": "5948716b",
   "metadata": {},
   "outputs": [
    {
     "name": "stdout",
     "output_type": "stream",
     "text": [
      "True\n"
     ]
    }
   ],
   "source": [
    "print(isSubTree(T, S))"
   ]
  },
  {
   "cell_type": "code",
   "execution_count": null,
   "id": "57fda91f",
   "metadata": {},
   "outputs": [],
   "source": []
  },
  {
   "cell_type": "code",
   "execution_count": null,
   "id": "602aaef2",
   "metadata": {},
   "outputs": [],
   "source": []
  }
 ],
 "metadata": {
  "kernelspec": {
   "display_name": "Python 3 (ipykernel)",
   "language": "python",
   "name": "python3"
  },
  "language_info": {
   "codemirror_mode": {
    "name": "ipython",
    "version": 3
   },
   "file_extension": ".py",
   "mimetype": "text/x-python",
   "name": "python",
   "nbconvert_exporter": "python",
   "pygments_lexer": "ipython3",
   "version": "3.10.6"
  }
 },
 "nbformat": 4,
 "nbformat_minor": 5
}
