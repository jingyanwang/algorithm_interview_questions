{
 "cells": [
  {
   "cell_type": "markdown",
   "id": "593ba2dc",
   "metadata": {},
   "source": [
    "https://www.geeksforgeeks.org/count-triplets-with-sum-smaller-that-a-given-value/"
   ]
  },
  {
   "cell_type": "code",
   "execution_count": 3,
   "id": "faf45542",
   "metadata": {},
   "outputs": [],
   "source": [
    "def countTriplets(\n",
    "    arr,\n",
    "    n,\n",
    "    sum,\n",
    "    ):\n",
    "    \n",
    "    arr.sort()\n",
    "    \n",
    "    ans= 0\n",
    "    \n",
    "    for i in range(0, n-2):\n",
    "        \n",
    "        j = i+1\n",
    "        k = n-1\n",
    "        \n",
    "        while(j<k):\n",
    "            \n",
    "            if(arr[i]+arr[j]+arr[k] >=sum):\n",
    "                k -=1\n",
    "            else:\n",
    "                ans += (k-j)\n",
    "                j +=1\n",
    "    \n",
    "    return ans"
   ]
  },
  {
   "cell_type": "code",
   "execution_count": 4,
   "id": "7e05d0dd",
   "metadata": {},
   "outputs": [
    {
     "data": {
      "text/plain": [
       "4"
      ]
     },
     "execution_count": 4,
     "metadata": {},
     "output_type": "execute_result"
    }
   ],
   "source": [
    "arr = [5, 1, 3, 4, 7]\n",
    "n = len(arr)\n",
    "sum = 12\n",
    "\n",
    "countTriplets(\n",
    "    arr,\n",
    "    n,\n",
    "    sum\n",
    "    )"
   ]
  },
  {
   "cell_type": "markdown",
   "id": "d147c333",
   "metadata": {},
   "source": [
    "time complexity $O(n^2)$"
   ]
  },
  {
   "cell_type": "markdown",
   "id": "cfcbbb51",
   "metadata": {},
   "source": [
    "auxiliary space $O(1)$"
   ]
  },
  {
   "cell_type": "markdown",
   "id": "5d0a666e",
   "metadata": {},
   "source": [
    "# end"
   ]
  }
 ],
 "metadata": {
  "kernelspec": {
   "display_name": "Python 3 (ipykernel)",
   "language": "python",
   "name": "python3"
  },
  "language_info": {
   "codemirror_mode": {
    "name": "ipython",
    "version": 3
   },
   "file_extension": ".py",
   "mimetype": "text/x-python",
   "name": "python",
   "nbconvert_exporter": "python",
   "pygments_lexer": "ipython3",
   "version": "3.10.6"
  }
 },
 "nbformat": 4,
 "nbformat_minor": 5
}
