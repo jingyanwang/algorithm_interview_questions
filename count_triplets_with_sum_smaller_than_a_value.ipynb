{
 "cells": [
  {
   "cell_type": "markdown",
   "id": "7a74f441",
   "metadata": {},
   "source": [
    "https://www.geeksforgeeks.org/count-triplets-with-sum-smaller-that-a-given-value/"
   ]
  },
  {
   "cell_type": "code",
   "execution_count": 3,
   "id": "cf0363c6",
   "metadata": {},
   "outputs": [],
   "source": [
    "def countTriplets(\n",
    "    arr,\n",
    "    n,\n",
    "    sum,\n",
    "    ):\n",
    "    \n",
    "    arr.sort()\n",
    "    \n",
    "    ans= 0\n",
    "    \n",
    "    for i in range(0, n-2):\n",
    "        \n",
    "        j = i+1\n",
    "        k = n-1\n",
    "        \n",
    "        while(j<k):\n",
    "            \n",
    "            if(arr[i]+arr[j]+arr[k] >=sum):\n",
    "                k -=1\n",
    "            else:\n",
    "                ans += (k-j)\n",
    "                j +=1\n",
    "    \n",
    "    return ans"
   ]
  },
  {
   "cell_type": "code",
   "execution_count": 4,
   "id": "458d3623",
   "metadata": {},
   "outputs": [
    {
     "data": {
      "text/plain": [
       "4"
      ]
     },
     "execution_count": 4,
     "metadata": {},
     "output_type": "execute_result"
    }
   ],
   "source": [
    "arr = [5, 1, 3, 4, 7]\n",
    "n = len(arr)\n",
    "sum = 12\n",
    "\n",
    "countTriplets(\n",
    "    arr,\n",
    "    n,\n",
    "    sum\n",
    "    )"
   ]
  },
  {
   "cell_type": "markdown",
   "id": "cc5f8980",
   "metadata": {},
   "source": [
    "time complexity $O(n^2)$"
   ]
  },
  {
   "cell_type": "markdown",
   "id": "fd777edf",
   "metadata": {},
   "source": [
    "auxiliary space $O(1)$"
   ]
  },
  {
   "cell_type": "markdown",
   "id": "0329e206",
   "metadata": {},
   "source": [
    "# end"
   ]
  }
 ],
 "metadata": {
  "kernelspec": {
   "display_name": "Python 3 (ipykernel)",
   "language": "python",
   "name": "python3"
  },
  "language_info": {
   "codemirror_mode": {
    "name": "ipython",
    "version": 3
   },
   "file_extension": ".py",
   "mimetype": "text/x-python",
   "name": "python",
   "nbconvert_exporter": "python",
   "pygments_lexer": "ipython3",
   "version": "3.10.6"
  }
 },
 "nbformat": 4,
 "nbformat_minor": 5
}
