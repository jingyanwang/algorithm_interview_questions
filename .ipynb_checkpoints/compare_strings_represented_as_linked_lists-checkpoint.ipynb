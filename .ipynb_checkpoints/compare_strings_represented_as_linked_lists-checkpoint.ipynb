{
 "cells": [
  {
   "cell_type": "markdown",
   "id": "995d6a61",
   "metadata": {},
   "source": [
    "https://www.geeksforgeeks.org/compare-two-strings-represented-as-linked-lists/"
   ]
  },
  {
   "cell_type": "code",
   "execution_count": 1,
   "id": "053cc834",
   "metadata": {},
   "outputs": [],
   "source": [
    "class Node:\n",
    "    def __init__(\n",
    "        self,\n",
    "        key,\n",
    "        ):\n",
    "        self.c = key\n",
    "        self.next = None"
   ]
  },
  {
   "cell_type": "code",
   "execution_count": 4,
   "id": "b5677b69",
   "metadata": {},
   "outputs": [],
   "source": [
    "def compare(\n",
    "    list1,\n",
    "    list2,\n",
    "    ):\n",
    "    \n",
    "    while(\n",
    "        list1 is not None\n",
    "        and list2 is not None\n",
    "        and list1.c == list2.c\n",
    "        ):\n",
    "        list1 = list1.next\n",
    "        list2 = list2.next\n",
    "    \n",
    "    if list1 is not None and list2 is not None:\n",
    "        if list1.c > list2.c:\n",
    "            return 1\n",
    "        else:\n",
    "            return -1\n",
    "    \n",
    "    if list1 is None and list2 is not None:\n",
    "        return -1\n",
    "\n",
    "    if list1 is not None and list2 is None:\n",
    "        return 1\n",
    "    \n",
    "    return 0"
   ]
  },
  {
   "cell_type": "code",
   "execution_count": 5,
   "id": "e0eefe55",
   "metadata": {},
   "outputs": [],
   "source": [
    "list1 = Node('g')\n",
    "list1.next = Node('e')\n",
    "list1.next.next = Node('e')\n",
    "list1.next.next.next = Node('k')\n",
    "list1.next.next.next.next = Node('s')\n",
    "list1.next.next.next.next.next = Node('b')"
   ]
  },
  {
   "cell_type": "code",
   "execution_count": 13,
   "id": "01b616a9",
   "metadata": {},
   "outputs": [],
   "source": [
    "list2 = Node('g')\n",
    "list2.next = Node('e')\n",
    "list2.next.next = Node('e')\n",
    "list2.next.next.next = Node('k')\n",
    "list2.next.next.next.next = Node('s')\n",
    "list2.next.next.next.next.next = Node('b')"
   ]
  },
  {
   "cell_type": "code",
   "execution_count": 14,
   "id": "3c3562bb",
   "metadata": {},
   "outputs": [
    {
     "data": {
      "text/plain": [
       "0"
      ]
     },
     "execution_count": 14,
     "metadata": {},
     "output_type": "execute_result"
    }
   ],
   "source": [
    "compare(list1, list2)"
   ]
  }
 ],
 "metadata": {
  "kernelspec": {
   "display_name": "Python 3 (ipykernel)",
   "language": "python",
   "name": "python3"
  },
  "language_info": {
   "codemirror_mode": {
    "name": "ipython",
    "version": 3
   },
   "file_extension": ".py",
   "mimetype": "text/x-python",
   "name": "python",
   "nbconvert_exporter": "python",
   "pygments_lexer": "ipython3",
   "version": "3.10.6"
  }
 },
 "nbformat": 4,
 "nbformat_minor": 5
}
