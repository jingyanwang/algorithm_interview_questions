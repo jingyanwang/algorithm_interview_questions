{
 "cells": [
  {
   "cell_type": "markdown",
   "id": "e464528d",
   "metadata": {},
   "source": [
    "https://www.geeksforgeeks.org/length-largest-subarray-contiguous-elements-set-1/"
   ]
  },
  {
   "cell_type": "code",
   "execution_count": 2,
   "id": "eedbe63e",
   "metadata": {},
   "outputs": [],
   "source": [
    "def min(x,y):\n",
    "    return x if (x<y) else y\n",
    "\n",
    "def max(x,y):\n",
    "    return x if (x>y) else y"
   ]
  },
  {
   "cell_type": "code",
   "execution_count": 3,
   "id": "561a9b6b",
   "metadata": {},
   "outputs": [],
   "source": [
    "def findLength(\n",
    "    arr, \n",
    "    n,\n",
    "    ):\n",
    "    \n",
    "    max_len = 1\n",
    "    \n",
    "    for i in range(n-1):\n",
    "        \n",
    "        mn = arr[i]\n",
    "        mx = arr[i]\n",
    "        \n",
    "        for j in range(i+1, n):\n",
    "            \n",
    "            mn = min(mn, arr[j])\n",
    "            mx = max(mx, arr[j])\n",
    "            \n",
    "            if (mx-mn) == (j-i):\n",
    "                max_len = max(max_len, mx-mn+1)\n",
    "    return max_len"
   ]
  },
  {
   "cell_type": "code",
   "execution_count": 5,
   "id": "56b741ad",
   "metadata": {},
   "outputs": [
    {
     "data": {
      "text/plain": [
       "5"
      ]
     },
     "execution_count": 5,
     "metadata": {},
     "output_type": "execute_result"
    }
   ],
   "source": [
    "arr = [1, 56, 58, 57, 90, 92, 94, 93, 91, 45]\n",
    "n = len(arr)\n",
    "findLength(\n",
    "    arr, \n",
    "    n,\n",
    "    )"
   ]
  },
  {
   "cell_type": "markdown",
   "id": "c1e01b18",
   "metadata": {},
   "source": [
    "time complexity $O(n^2)$"
   ]
  },
  {
   "cell_type": "code",
   "execution_count": null,
   "id": "0bbbb9b8",
   "metadata": {},
   "outputs": [],
   "source": []
  },
  {
   "cell_type": "code",
   "execution_count": null,
   "id": "3c981a4b",
   "metadata": {},
   "outputs": [],
   "source": []
  },
  {
   "cell_type": "code",
   "execution_count": null,
   "id": "fa5abadb",
   "metadata": {},
   "outputs": [],
   "source": []
  },
  {
   "cell_type": "code",
   "execution_count": null,
   "id": "b26592d9",
   "metadata": {},
   "outputs": [],
   "source": []
  }
 ],
 "metadata": {
  "kernelspec": {
   "display_name": "Python 3 (ipykernel)",
   "language": "python",
   "name": "python3"
  },
  "language_info": {
   "codemirror_mode": {
    "name": "ipython",
    "version": 3
   },
   "file_extension": ".py",
   "mimetype": "text/x-python",
   "name": "python",
   "nbconvert_exporter": "python",
   "pygments_lexer": "ipython3",
   "version": "3.10.6"
  }
 },
 "nbformat": 4,
 "nbformat_minor": 5
}
