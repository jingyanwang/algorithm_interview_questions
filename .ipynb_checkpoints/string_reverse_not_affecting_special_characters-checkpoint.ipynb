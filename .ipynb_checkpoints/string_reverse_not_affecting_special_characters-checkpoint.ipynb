{
 "cells": [
  {
   "cell_type": "markdown",
   "id": "92bd2103",
   "metadata": {},
   "source": [
    "https://www.geeksforgeeks.org/reverse-a-string-without-affecting-special-characters/"
   ]
  },
  {
   "cell_type": "code",
   "execution_count": 5,
   "id": "b7d7c839",
   "metadata": {},
   "outputs": [],
   "source": [
    "def reverseString(\n",
    "    text\n",
    "    ):\n",
    "    \n",
    "    index = -1\n",
    "    \n",
    "    start_idx = len(text)-1\n",
    "    end_idx = int(len(text)/2)\n",
    "    step = -1\n",
    "    \n",
    "    for i in range(start_idx, end_idx, step):\n",
    "        \n",
    "        if text[i].isalpha():\n",
    "            \n",
    "            temp = text[i]\n",
    "            \n",
    "            while True:\n",
    "                index += 1\n",
    "                if text[index].isalpha():\n",
    "                    text[i] = text[index]\n",
    "                    text[index] = temp\n",
    "                    break\n",
    "    \n",
    "    return text"
   ]
  },
  {
   "cell_type": "code",
   "execution_count": 7,
   "id": "7cc4a26f",
   "metadata": {},
   "outputs": [
    {
     "data": {
      "text/plain": [
       "\"i!!!h.g.f,e'd,cba\""
      ]
     },
     "execution_count": 7,
     "metadata": {},
     "output_type": "execute_result"
    }
   ],
   "source": [
    "string = \"a!!!b.c.d,e'f,ghi\"\n",
    "\n",
    "\"\".join(reverseString(list(string)))"
   ]
  },
  {
   "cell_type": "code",
   "execution_count": null,
   "id": "3259b1ae",
   "metadata": {},
   "outputs": [],
   "source": []
  },
  {
   "cell_type": "code",
   "execution_count": null,
   "id": "12e156bd",
   "metadata": {},
   "outputs": [],
   "source": []
  },
  {
   "cell_type": "code",
   "execution_count": null,
   "id": "c9574732",
   "metadata": {},
   "outputs": [],
   "source": []
  },
  {
   "cell_type": "code",
   "execution_count": null,
   "id": "dc5fb58a",
   "metadata": {},
   "outputs": [],
   "source": []
  },
  {
   "cell_type": "code",
   "execution_count": null,
   "id": "5fc85b19",
   "metadata": {},
   "outputs": [],
   "source": []
  },
  {
   "cell_type": "code",
   "execution_count": null,
   "id": "23c57ec7",
   "metadata": {},
   "outputs": [],
   "source": []
  },
  {
   "cell_type": "code",
   "execution_count": null,
   "id": "cf445595",
   "metadata": {},
   "outputs": [],
   "source": []
  }
 ],
 "metadata": {
  "kernelspec": {
   "display_name": "Python 3 (ipykernel)",
   "language": "python",
   "name": "python3"
  },
  "language_info": {
   "codemirror_mode": {
    "name": "ipython",
    "version": 3
   },
   "file_extension": ".py",
   "mimetype": "text/x-python",
   "name": "python",
   "nbconvert_exporter": "python",
   "pygments_lexer": "ipython3",
   "version": "3.10.6"
  }
 },
 "nbformat": 4,
 "nbformat_minor": 5
}
