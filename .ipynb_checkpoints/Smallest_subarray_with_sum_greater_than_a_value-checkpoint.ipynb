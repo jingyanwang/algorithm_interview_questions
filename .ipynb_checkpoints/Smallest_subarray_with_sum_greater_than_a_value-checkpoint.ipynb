{
 "cells": [
  {
   "cell_type": "markdown",
   "id": "778a36b9",
   "metadata": {},
   "source": [
    "https://www.geeksforgeeks.org/minimum-length-subarray-sum-greater-given-value/"
   ]
  },
  {
   "cell_type": "code",
   "execution_count": 5,
   "id": "090227a5",
   "metadata": {},
   "outputs": [],
   "source": [
    "def smallestSubWithSum(\n",
    "    arr,\n",
    "    n, \n",
    "    x,\n",
    "    ):\n",
    "    \n",
    "    curr_sum = 0\n",
    "    min_len = n+1\n",
    "    \n",
    "    start, end = 0, 0\n",
    "    \n",
    "    while(end<n):\n",
    "        \n",
    "        while(curr_sum<=x and end<n):\n",
    "            curr_sum += arr[end]\n",
    "            end += 1\n",
    "        \n",
    "        while(curr_sum > x and start < n):\n",
    "            if (end-start < min_len):\n",
    "                min_len = end-start\n",
    "            curr_sum -= arr[start]\n",
    "            start += 1\n",
    "    \n",
    "    return min_len           "
   ]
  },
  {
   "cell_type": "code",
   "execution_count": 2,
   "id": "468dbb67",
   "metadata": {},
   "outputs": [],
   "source": [
    "arr1 = [1, 4, 45, 6, 10, 19]"
   ]
  },
  {
   "cell_type": "code",
   "execution_count": 3,
   "id": "72d9e8cb",
   "metadata": {},
   "outputs": [],
   "source": [
    "x = 51"
   ]
  },
  {
   "cell_type": "code",
   "execution_count": 4,
   "id": "e074ebe7",
   "metadata": {},
   "outputs": [],
   "source": [
    "n = len(arr1)"
   ]
  },
  {
   "cell_type": "code",
   "execution_count": 6,
   "id": "dcb64f25",
   "metadata": {},
   "outputs": [],
   "source": [
    "res1 = smallestSubWithSum(arr1, n, x)"
   ]
  },
  {
   "cell_type": "code",
   "execution_count": 7,
   "id": "95b797fc",
   "metadata": {},
   "outputs": [
    {
     "name": "stdout",
     "output_type": "stream",
     "text": [
      "minimum subarray length:\t3\n"
     ]
    }
   ],
   "source": [
    "if res1 == n+1:\n",
    "    print('no possible')\n",
    "else:\n",
    "    print(f'minimum subarray length:\\t{res1}')"
   ]
  },
  {
   "cell_type": "markdown",
   "id": "2166a51b",
   "metadata": {},
   "source": [
    "# end "
   ]
  }
 ],
 "metadata": {
  "kernelspec": {
   "display_name": "Python 3 (ipykernel)",
   "language": "python",
   "name": "python3"
  },
  "language_info": {
   "codemirror_mode": {
    "name": "ipython",
    "version": 3
   },
   "file_extension": ".py",
   "mimetype": "text/x-python",
   "name": "python",
   "nbconvert_exporter": "python",
   "pygments_lexer": "ipython3",
   "version": "3.10.6"
  }
 },
 "nbformat": 4,
 "nbformat_minor": 5
}
