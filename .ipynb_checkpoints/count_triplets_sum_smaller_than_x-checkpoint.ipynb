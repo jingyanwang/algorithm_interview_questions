{
 "cells": [
  {
   "cell_type": "code",
   "execution_count": null,
   "id": "4e55069d",
   "metadata": {},
   "outputs": [],
   "source": []
  },
  {
   "cell_type": "code",
   "execution_count": null,
   "id": "95cf0d00",
   "metadata": {},
   "outputs": [],
   "source": [
    "arr = [5, 1, 3, 4, 7]\n",
    "n = len(arr)\n",
    "sum = 12\n",
    "print(countTriplets(arr, n, sum))"
   ]
  }
 ],
 "metadata": {
  "kernelspec": {
   "display_name": "Python 3 (ipykernel)",
   "language": "python",
   "name": "python3"
  },
  "language_info": {
   "codemirror_mode": {
    "name": "ipython",
    "version": 3
   },
   "file_extension": ".py",
   "mimetype": "text/x-python",
   "name": "python",
   "nbconvert_exporter": "python",
   "pygments_lexer": "ipython3",
   "version": "3.10.6"
  }
 },
 "nbformat": 4,
 "nbformat_minor": 5
}
