{
 "cells": [
  {
   "cell_type": "code",
   "execution_count": 1,
   "id": "ed4058d6",
   "metadata": {},
   "outputs": [],
   "source": [
    "import sys"
   ]
  },
  {
   "cell_type": "code",
   "execution_count": 3,
   "id": "7f7b753b",
   "metadata": {},
   "outputs": [],
   "source": [
    "class Graph():\n",
    "    \n",
    "    def __init__(\n",
    "        self,\n",
    "        vertices,\n",
    "        ):\n",
    "        \n",
    "        self.V = vertices\n",
    "        \n",
    "        self.graph = [\n",
    "            [0 for column in range(vertices)]\n",
    "            for row in range(vertices)\n",
    "        ]\n",
    "        \n",
    "    def printSolution(\n",
    "        self,\n",
    "        dist,\n",
    "        ):\n",
    "        \n",
    "        for node in range(self.V):\n",
    "            print(node, '\\t', dist[node])\n",
    "    \n",
    "    def minDistance(\n",
    "        self,\n",
    "        dist, \n",
    "        sptSet,\n",
    "        ):\n",
    "        \n",
    "        min = sys.maxsize\n",
    "        \n",
    "        for u in range(self.V):\n",
    "            if dist[u] < min and sptSet[u] == False:\n",
    "                min = dist[u]\n",
    "                min_index = u\n",
    "        \n",
    "        return min_index\n",
    "    \n",
    "    def dijkstra(\n",
    "        self,\n",
    "        src,\n",
    "        ):\n",
    "        \n",
    "        dist = [sys.maxsize] * self.V\n",
    "        dist[src] = 0\n",
    "        \n",
    "        sptSet = [False] * self.V\n",
    "        \n",
    "        for cout in range(self.V):\n",
    "            x = self.minDistance(\n",
    "                dist, \n",
    "                sptSet,\n",
    "                )\n",
    "            \n",
    "            sptSet[x] = True\n",
    "            \n",
    "            for y in range(self.V):\n",
    "                if self.graph[x][y] > 0 \\\n",
    "                    and sptSet[y] == False \\\n",
    "                    and dist[y] > dist[x] + self.graph[x][y]:\n",
    "                        dist[y] = dist[x] + self.graph[x][y]\n",
    "        \n",
    "        self.printSolution(dist)     "
   ]
  },
  {
   "cell_type": "code",
   "execution_count": 5,
   "id": "674bbec5",
   "metadata": {},
   "outputs": [
    {
     "name": "stdout",
     "output_type": "stream",
     "text": [
      "0 \t 0\n",
      "1 \t 4\n",
      "2 \t 12\n",
      "3 \t 19\n",
      "4 \t 21\n",
      "5 \t 11\n",
      "6 \t 9\n",
      "7 \t 8\n",
      "8 \t 14\n"
     ]
    }
   ],
   "source": [
    "if __name__ == \"__main__\":\n",
    "    \n",
    "    g = Graph(9)\n",
    "    \n",
    "    g.graph = [[0, 4, 0, 0, 0, 0, 0, 8, 0],\n",
    "               [4, 0, 8, 0, 0, 0, 0, 11, 0],\n",
    "               [0, 8, 0, 7, 0, 4, 0, 0, 2],\n",
    "               [0, 0, 7, 0, 9, 14, 0, 0, 0],\n",
    "               [0, 0, 0, 9, 0, 10, 0, 0, 0],\n",
    "               [0, 0, 4, 14, 10, 0, 2, 0, 0],\n",
    "               [0, 0, 0, 0, 0, 2, 0, 1, 6],\n",
    "               [8, 11, 0, 0, 0, 0, 1, 0, 7],\n",
    "               [0, 0, 2, 0, 0, 0, 6, 7, 0]\n",
    "               ]\n",
    "    \n",
    "    g.dijkstra(0)"
   ]
  },
  {
   "cell_type": "markdown",
   "id": "758d87b8",
   "metadata": {},
   "source": [
    "# end "
   ]
  }
 ],
 "metadata": {
  "kernelspec": {
   "display_name": "Python 3 (ipykernel)",
   "language": "python",
   "name": "python3"
  },
  "language_info": {
   "codemirror_mode": {
    "name": "ipython",
    "version": 3
   },
   "file_extension": ".py",
   "mimetype": "text/x-python",
   "name": "python",
   "nbconvert_exporter": "python",
   "pygments_lexer": "ipython3",
   "version": "3.10.6"
  }
 },
 "nbformat": 4,
 "nbformat_minor": 5
}
