{
 "cells": [
  {
   "cell_type": "markdown",
   "id": "9378b878",
   "metadata": {},
   "source": [
    "https://www.geeksforgeeks.org/convert-array-into-zig-zag-fashion/"
   ]
  },
  {
   "cell_type": "code",
   "execution_count": 1,
   "id": "d09458ad",
   "metadata": {},
   "outputs": [],
   "source": [
    "def zigZag(\n",
    "    arr,\n",
    "    n,\n",
    "    ):\n",
    "    \n",
    "    flag = True\n",
    "    \n",
    "    for i in range(n-1):\n",
    "        \n",
    "        if flag is True:\n",
    "            if arr[i] > arr[i+1]:\n",
    "                arr[i], arr[i+1] = arr[i+1], arr[i] \n",
    "        else:\n",
    "            if arr[i] < arr[i+1]:\n",
    "                arr[i], arr[i+1] = arr[i+1], arr[i] \n",
    "        \n",
    "        flag = bool(1-flag)\n",
    "    \n",
    "    print(arr)  "
   ]
  },
  {
   "cell_type": "code",
   "execution_count": 2,
   "id": "4bc2a551",
   "metadata": {},
   "outputs": [
    {
     "name": "stdout",
     "output_type": "stream",
     "text": [
      "[3, 7, 4, 8, 2, 6, 1]\n"
     ]
    }
   ],
   "source": [
    "arr = [4, 3, 7, 8, 6, 2, 1]\n",
    "n = len(arr)\n",
    "zigZag(arr, n)"
   ]
  },
  {
   "cell_type": "markdown",
   "id": "a466aab7",
   "metadata": {},
   "source": [
    "time complexity : $O(n)$"
   ]
  },
  {
   "cell_type": "markdown",
   "id": "27cac3b5",
   "metadata": {},
   "source": [
    "auxiliary space $O(1)$"
   ]
  },
  {
   "cell_type": "code",
   "execution_count": null,
   "id": "c4429019",
   "metadata": {},
   "outputs": [],
   "source": []
  }
 ],
 "metadata": {
  "kernelspec": {
   "display_name": "Python 3 (ipykernel)",
   "language": "python",
   "name": "python3"
  },
  "language_info": {
   "codemirror_mode": {
    "name": "ipython",
    "version": 3
   },
   "file_extension": ".py",
   "mimetype": "text/x-python",
   "name": "python",
   "nbconvert_exporter": "python",
   "pygments_lexer": "ipython3",
   "version": "3.10.6"
  }
 },
 "nbformat": 4,
 "nbformat_minor": 5
}
