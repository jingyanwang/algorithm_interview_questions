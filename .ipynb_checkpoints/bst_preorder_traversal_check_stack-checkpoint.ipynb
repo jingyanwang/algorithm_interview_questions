{
 "cells": [
  {
   "cell_type": "markdown",
   "id": "ac02cb72",
   "metadata": {},
   "source": [
    "https://www.geeksforgeeks.org/check-if-a-given-array-can-represent-preorder-traversal-of-binary-search-tree/"
   ]
  },
  {
   "cell_type": "markdown",
   "id": "571f5791",
   "metadata": {},
   "source": [
    "https://www.geeksforgeeks.org/stack-data-structure/"
   ]
  },
  {
   "cell_type": "markdown",
   "id": "076453ed",
   "metadata": {},
   "source": [
    "https://www.geeksforgeeks.org/binary-search-tree-data-structure/"
   ]
  },
  {
   "cell_type": "markdown",
   "id": "517cafd9",
   "metadata": {},
   "source": [
    "https://www.geeksforgeeks.org/tree-traversals-inorder-preorder-and-postorder/"
   ]
  },
  {
   "cell_type": "code",
   "execution_count": 1,
   "id": "dc77629b",
   "metadata": {},
   "outputs": [],
   "source": [
    "import sys"
   ]
  },
  {
   "cell_type": "code",
   "execution_count": 2,
   "id": "f4d359d3",
   "metadata": {},
   "outputs": [],
   "source": [
    "INF_MIN = -sys.maxsize"
   ]
  },
  {
   "cell_type": "code",
   "execution_count": 3,
   "id": "75126779",
   "metadata": {},
   "outputs": [],
   "source": [
    "def canPresentBST(\n",
    "    pre,\n",
    "    ):\n",
    "    \n",
    "    '''\n",
    "    stack is the candidate roots\n",
    "    '''\n",
    "    s = []\n",
    "    \n",
    "    root = INF_MIN\n",
    "    \n",
    "    for value in pre:\n",
    "        \n",
    "        print(f'\\n\\n\\nchecking the value {value}')\n",
    "        \n",
    "        print(f'compare value {value} to root {root}')\n",
    "        \n",
    "        if value < root:\n",
    "            return False\n",
    "        \n",
    "        print(f'compare value {value} aginst stack {s}')\n",
    "        \n",
    "        '''\n",
    "        pop the elements from the stack to make a new root, \n",
    "        to make sure\n",
    "        a. the new root is smaller than the current value\n",
    "        b. but larger than all the other elements of the stack\n",
    "        '''\n",
    "        len_s = len(s)\n",
    "        while(\n",
    "            len(s) > 0 \n",
    "            and \n",
    "            s[-1] < value\n",
    "            ):            \n",
    "            '''\n",
    "            if value is greater than any elements of the stack,\n",
    "            this value is the right,\n",
    "            then we will try to find its immidiate parent from\n",
    "            the root candidate\n",
    "            \n",
    "            otherwise it is a left\n",
    "            '''           \n",
    "            root = s.pop()\n",
    "        len_s_new = len(s)\n",
    "        \n",
    "        if len_s_new == len_s:\n",
    "            print(f'value {value} is smaller than all the candidate roots, it is a left')\n",
    "            print(f'root the same: {root}, stack the same {s}')\n",
    "        else:\n",
    "            print(f'value {value} is larger than some candidate roots, it is a righ.')\n",
    "            print(f'new root: {root}, new stack {s}')\n",
    "        \n",
    "        \n",
    "        s.append(value)\n",
    "        \n",
    "        print(f'adding current value {value} to stack, stack becomes {s}')\n",
    "        \n",
    "    return True"
   ]
  },
  {
   "cell_type": "code",
   "execution_count": 4,
   "id": "34c5bb5d",
   "metadata": {},
   "outputs": [
    {
     "name": "stdout",
     "output_type": "stream",
     "text": [
      "\n",
      "\n",
      "\n",
      "checking the value 2\n",
      "compare value 2 to root -9223372036854775807\n",
      "compare value 2 aginst stack []\n",
      "value 2 is smaller than all the candidate roots, it is a left\n",
      "root the same: -9223372036854775807, stack the same []\n",
      "adding current value 2 to stack, stack becomes [2]\n",
      "\n",
      "\n",
      "\n",
      "checking the value 4\n",
      "compare value 4 to root -9223372036854775807\n",
      "compare value 4 aginst stack [2]\n",
      "value 4 is larger than some candidate roots, it is a righ.\n",
      "new root: 2, new stack []\n",
      "adding current value 4 to stack, stack becomes [4]\n",
      "\n",
      "\n",
      "\n",
      "checking the value 3\n",
      "compare value 3 to root 2\n",
      "compare value 3 aginst stack [4]\n",
      "value 3 is smaller than all the candidate roots, it is a left\n",
      "root the same: 2, stack the same [4]\n",
      "adding current value 3 to stack, stack becomes [4, 3]\n",
      "True\n"
     ]
    }
   ],
   "source": [
    "preorder1 = [ 2, 4, 3 ]\n",
    "\n",
    "print(canPresentBST(preorder1))"
   ]
  },
  {
   "cell_type": "code",
   "execution_count": 5,
   "id": "3107c4b6",
   "metadata": {},
   "outputs": [
    {
     "name": "stdout",
     "output_type": "stream",
     "text": [
      "\n",
      "\n",
      "\n",
      "checking the value 5\n",
      "compare value 5 to root -9223372036854775807\n",
      "compare value 5 aginst stack []\n",
      "value 5 is smaller than all the candidate roots, it is a left\n",
      "root the same: -9223372036854775807, stack the same []\n",
      "adding current value 5 to stack, stack becomes [5]\n",
      "\n",
      "\n",
      "\n",
      "checking the value 3\n",
      "compare value 3 to root -9223372036854775807\n",
      "compare value 3 aginst stack [5]\n",
      "value 3 is smaller than all the candidate roots, it is a left\n",
      "root the same: -9223372036854775807, stack the same [5]\n",
      "adding current value 3 to stack, stack becomes [5, 3]\n",
      "\n",
      "\n",
      "\n",
      "checking the value 4\n",
      "compare value 4 to root -9223372036854775807\n",
      "compare value 4 aginst stack [5, 3]\n",
      "value 4 is larger than some candidate roots, it is a righ.\n",
      "new root: 3, new stack [5]\n",
      "adding current value 4 to stack, stack becomes [5, 4]\n",
      "\n",
      "\n",
      "\n",
      "checking the value 1\n",
      "compare value 1 to root 3\n",
      "False\n"
     ]
    }
   ],
   "source": [
    "preorder1 = [ 5, 3, 4, 1, 6, 10 ]\n",
    "\n",
    "print(canPresentBST(preorder1,))"
   ]
  },
  {
   "cell_type": "code",
   "execution_count": 6,
   "id": "1688abcc",
   "metadata": {},
   "outputs": [
    {
     "name": "stdout",
     "output_type": "stream",
     "text": [
      "\n",
      "\n",
      "\n",
      "checking the value 5\n",
      "compare value 5 to root -9223372036854775807\n",
      "compare value 5 aginst stack []\n",
      "value 5 is smaller than all the candidate roots, it is a left\n",
      "root the same: -9223372036854775807, stack the same []\n",
      "adding current value 5 to stack, stack becomes [5]\n",
      "\n",
      "\n",
      "\n",
      "checking the value 3\n",
      "compare value 3 to root -9223372036854775807\n",
      "compare value 3 aginst stack [5]\n",
      "value 3 is smaller than all the candidate roots, it is a left\n",
      "root the same: -9223372036854775807, stack the same [5]\n",
      "adding current value 3 to stack, stack becomes [5, 3]\n",
      "\n",
      "\n",
      "\n",
      "checking the value 4\n",
      "compare value 4 to root -9223372036854775807\n",
      "compare value 4 aginst stack [5, 3]\n",
      "value 4 is larger than some candidate roots, it is a righ.\n",
      "new root: 3, new stack [5]\n",
      "adding current value 4 to stack, stack becomes [5, 4]\n",
      "\n",
      "\n",
      "\n",
      "checking the value 8\n",
      "compare value 8 to root 3\n",
      "compare value 8 aginst stack [5, 4]\n",
      "value 8 is larger than some candidate roots, it is a righ.\n",
      "new root: 5, new stack []\n",
      "adding current value 8 to stack, stack becomes [8]\n",
      "\n",
      "\n",
      "\n",
      "checking the value 6\n",
      "compare value 6 to root 5\n",
      "compare value 6 aginst stack [8]\n",
      "value 6 is smaller than all the candidate roots, it is a left\n",
      "root the same: 5, stack the same [8]\n",
      "adding current value 6 to stack, stack becomes [8, 6]\n",
      "\n",
      "\n",
      "\n",
      "checking the value 10\n",
      "compare value 10 to root 5\n",
      "compare value 10 aginst stack [8, 6]\n",
      "value 10 is larger than some candidate roots, it is a righ.\n",
      "new root: 8, new stack []\n",
      "adding current value 10 to stack, stack becomes [10]\n",
      "True\n"
     ]
    }
   ],
   "source": [
    "preorder1 = [ 5, 3, 4, 8, 6, 10 ]\n",
    "\n",
    "\n",
    "print(canPresentBST(preorder1,))"
   ]
  },
  {
   "cell_type": "code",
   "execution_count": 7,
   "id": "6f3bd9e0",
   "metadata": {},
   "outputs": [
    {
     "name": "stdout",
     "output_type": "stream",
     "text": [
      "\n",
      "\n",
      "\n",
      "checking the value 40\n",
      "compare value 40 to root -9223372036854775807\n",
      "compare value 40 aginst stack []\n",
      "value 40 is smaller than all the candidate roots, it is a left\n",
      "root the same: -9223372036854775807, stack the same []\n",
      "adding current value 40 to stack, stack becomes [40]\n",
      "\n",
      "\n",
      "\n",
      "checking the value 30\n",
      "compare value 30 to root -9223372036854775807\n",
      "compare value 30 aginst stack [40]\n",
      "value 30 is smaller than all the candidate roots, it is a left\n",
      "root the same: -9223372036854775807, stack the same [40]\n",
      "adding current value 30 to stack, stack becomes [40, 30]\n",
      "\n",
      "\n",
      "\n",
      "checking the value 35\n",
      "compare value 35 to root -9223372036854775807\n",
      "compare value 35 aginst stack [40, 30]\n",
      "value 35 is larger than some candidate roots, it is a righ.\n",
      "new root: 30, new stack [40]\n",
      "adding current value 35 to stack, stack becomes [40, 35]\n",
      "\n",
      "\n",
      "\n",
      "checking the value 80\n",
      "compare value 80 to root 30\n",
      "compare value 80 aginst stack [40, 35]\n",
      "value 80 is larger than some candidate roots, it is a righ.\n",
      "new root: 40, new stack []\n",
      "adding current value 80 to stack, stack becomes [80]\n",
      "\n",
      "\n",
      "\n",
      "checking the value 100\n",
      "compare value 100 to root 40\n",
      "compare value 100 aginst stack [80]\n",
      "value 100 is larger than some candidate roots, it is a righ.\n",
      "new root: 80, new stack []\n",
      "adding current value 100 to stack, stack becomes [100]\n",
      "True\n"
     ]
    }
   ],
   "source": [
    "preorder1 = [ 40, 30, 35, 80, 100 ]\n",
    "\n",
    "\n",
    "print(canPresentBST(preorder1,))"
   ]
  }
 ],
 "metadata": {
  "kernelspec": {
   "display_name": "Python 3 (ipykernel)",
   "language": "python",
   "name": "python3"
  },
  "language_info": {
   "codemirror_mode": {
    "name": "ipython",
    "version": 3
   },
   "file_extension": ".py",
   "mimetype": "text/x-python",
   "name": "python",
   "nbconvert_exporter": "python",
   "pygments_lexer": "ipython3",
   "version": "3.10.6"
  }
 },
 "nbformat": 4,
 "nbformat_minor": 5
}
