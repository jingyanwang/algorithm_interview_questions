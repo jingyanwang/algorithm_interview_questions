{
 "cells": [
  {
   "cell_type": "code",
   "execution_count": null,
   "id": "be7c7a97",
   "metadata": {},
   "outputs": [],
   "source": [
    "https://leetcode.com/problems/reverse-only-letters/submissions/"
   ]
  },
  {
   "cell_type": "code",
   "execution_count": null,
   "id": "9e2bbc3c",
   "metadata": {},
   "outputs": [],
   "source": [
    "class Solution(object):\n",
    "    def reverseOnlyLetters(self, s):\n",
    "        \"\"\"\n",
    "        :type s: str\n",
    "        :rtype: str\n",
    "        \"\"\"\n",
    "        \n",
    "        n = len(s)\n",
    "        \n",
    "        start_idx = 0\n",
    "        end_idx = n-1\n",
    "        \n",
    "        s = list(s)\n",
    "        \n",
    "        while start_idx < end_idx:\n",
    "            \n",
    "            if str(s[start_idx]).isalpha() is False:\n",
    "                start_idx += 1\n",
    "            else:\n",
    "                if str(s[end_idx]).isalpha() is False:\n",
    "                    end_idx -=1\n",
    "                else:\n",
    "                    s[start_idx], s[end_idx] = s[end_idx], s[start_idx]\n",
    "                    start_idx += 1\n",
    "                    end_idx -= 1\n",
    "        \n",
    "        return ''.join(s)\n",
    "\n",
    "        "
   ]
  }
 ],
 "metadata": {
  "kernelspec": {
   "display_name": "Python 3 (ipykernel)",
   "language": "python",
   "name": "python3"
  },
  "language_info": {
   "codemirror_mode": {
    "name": "ipython",
    "version": 3
   },
   "file_extension": ".py",
   "mimetype": "text/x-python",
   "name": "python",
   "nbconvert_exporter": "python",
   "pygments_lexer": "ipython3",
   "version": "3.10.6"
  }
 },
 "nbformat": 4,
 "nbformat_minor": 5
}
