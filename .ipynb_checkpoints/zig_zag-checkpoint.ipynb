{
 "cells": [
  {
   "cell_type": "code",
   "execution_count": null,
   "id": "ad3d41b6",
   "metadata": {},
   "outputs": [],
   "source": [
    "https://www.geeksforgeeks.org/convert-array-into-zig-zag-fashion/"
   ]
  },
  {
   "cell_type": "code",
   "execution_count": 8,
   "id": "2816f7c5",
   "metadata": {},
   "outputs": [],
   "source": [
    "def zigZag(nums, n):\n",
    "    \"\"\"\n",
    "    :type nums: List[int]\n",
    "    :rtype: int\n",
    "    \"\"\"\n",
    "    \n",
    "    i = 0\n",
    "    \n",
    "    if nums[i] > nums[i+1]:\n",
    "        nums[i] , nums[i+1] = nums[i+1] , nums[i]\n",
    "        \n",
    "\n",
    "    for i in range(1, n-1):\n",
    "\n",
    "        pre_flag =  nums[i-1] < nums[i]\n",
    "        current_flag = nums[i] < nums[i+1]\n",
    "\n",
    "        if current_flag == pre_flag:\n",
    "            nums[i] , nums[i+1] = nums[i+1] , nums[i]\n",
    "\n",
    "    return nums\n"
   ]
  },
  {
   "cell_type": "code",
   "execution_count": 9,
   "id": "a890e94f",
   "metadata": {},
   "outputs": [
    {
     "data": {
      "text/plain": [
       "[3, 7, 4, 8, 2, 6, 1]"
      ]
     },
     "execution_count": 9,
     "metadata": {},
     "output_type": "execute_result"
    }
   ],
   "source": [
    "arr = [4, 3, 7, 8, 6, 2, 1]\n",
    "n = len(arr)\n",
    "zigZag(arr, n)"
   ]
  }
 ],
 "metadata": {
  "kernelspec": {
   "display_name": "Python 3 (ipykernel)",
   "language": "python",
   "name": "python3"
  },
  "language_info": {
   "codemirror_mode": {
    "name": "ipython",
    "version": 3
   },
   "file_extension": ".py",
   "mimetype": "text/x-python",
   "name": "python",
   "nbconvert_exporter": "python",
   "pygments_lexer": "ipython3",
   "version": "3.10.6"
  }
 },
 "nbformat": 4,
 "nbformat_minor": 5
}
