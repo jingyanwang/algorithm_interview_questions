{
 "cells": [
  {
   "cell_type": "markdown",
   "id": "25dec8d4",
   "metadata": {},
   "source": [
    "https://www.geeksforgeeks.org/minimum-length-subarray-sum-greater-given-value/"
   ]
  },
  {
   "cell_type": "code",
   "execution_count": 2,
   "id": "5e0218ad",
   "metadata": {},
   "outputs": [],
   "source": [
    "def smallestSubWithSum(\n",
    "    arr,\n",
    "    n,\n",
    "    x\n",
    "    ):\n",
    "    \n",
    "    curr_sum = 0\n",
    "    \n",
    "    min_len = n+1\n",
    "    \n",
    "    start, end = 0, 0\n",
    "    \n",
    "    while(end<n):\n",
    "        \n",
    "        while(curr_sum<=x and end<n):\n",
    "            curr_sum+=arr[end]\n",
    "            end +=1\n",
    "        \n",
    "        while(curr_sum>x and start<n):\n",
    "            \n",
    "            if(end-start<min_len):\n",
    "                min_len=end-start\n",
    "            \n",
    "            curr_sum-=arr[start]\n",
    "            start +=1\n",
    "    \n",
    "    return min_len"
   ]
  },
  {
   "cell_type": "code",
   "execution_count": 3,
   "id": "4abd0a74",
   "metadata": {},
   "outputs": [],
   "source": [
    "arr1 = [1, 4, 45, 6, 10, 19]\n",
    "x = 51\n",
    "n1 = len(arr1)\n",
    "res1 = smallestSubWithSum(arr1, n1, x)"
   ]
  },
  {
   "cell_type": "code",
   "execution_count": 4,
   "id": "0421ecee",
   "metadata": {},
   "outputs": [
    {
     "data": {
      "text/plain": [
       "3"
      ]
     },
     "execution_count": 4,
     "metadata": {},
     "output_type": "execute_result"
    }
   ],
   "source": [
    "res1"
   ]
  }
 ],
 "metadata": {
  "kernelspec": {
   "display_name": "Python 3 (ipykernel)",
   "language": "python",
   "name": "python3"
  },
  "language_info": {
   "codemirror_mode": {
    "name": "ipython",
    "version": 3
   },
   "file_extension": ".py",
   "mimetype": "text/x-python",
   "name": "python",
   "nbconvert_exporter": "python",
   "pygments_lexer": "ipython3",
   "version": "3.10.6"
  }
 },
 "nbformat": 4,
 "nbformat_minor": 5
}
