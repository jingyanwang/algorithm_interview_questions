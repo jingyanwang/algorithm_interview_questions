{
 "cells": [
  {
   "cell_type": "markdown",
   "id": "3a26d20a",
   "metadata": {},
   "source": [
    "https://www.geeksforgeeks.org/bridge-in-a-graph/"
   ]
  },
  {
   "cell_type": "code",
   "execution_count": 1,
   "id": "8b3b7624",
   "metadata": {},
   "outputs": [],
   "source": [
    "from collections import defaultdict"
   ]
  },
  {
   "cell_type": "code",
   "execution_count": 4,
   "id": "964e2f5d",
   "metadata": {},
   "outputs": [],
   "source": [
    "class Graph:\n",
    "    \n",
    "    def __init__(\n",
    "        self,\n",
    "        vertices,\n",
    "        ):\n",
    "        \n",
    "        \n",
    "        self.V = vertices\n",
    "        self.graph = defaultdict(list)\n",
    "        self.Time = 0\n",
    "        \n",
    "    def addEdge(\n",
    "        self,\n",
    "        u, \n",
    "        v,\n",
    "        ):\n",
    "        \n",
    "        self.graph[u].append(v)\n",
    "        self.graph[v].append(u)"
   ]
  },
  {
   "cell_type": "code",
   "execution_count": 7,
   "id": "650eaef2",
   "metadata": {},
   "outputs": [],
   "source": [
    "g1 = Graph(5)\n",
    "g1.addEdge(1, 0)\n",
    "g1.addEdge(0, 2)\n",
    "g1.addEdge(2, 1)\n",
    "g1.addEdge(0, 3)\n",
    "g1.addEdge(3, 4)"
   ]
  },
  {
   "cell_type": "code",
   "execution_count": 9,
   "id": "90110c7d",
   "metadata": {},
   "outputs": [
    {
     "data": {
      "text/plain": [
       "defaultdict(list, {1: [0, 2], 0: [1, 2, 3], 2: [0, 1], 3: [0, 4], 4: [3]})"
      ]
     },
     "execution_count": 9,
     "metadata": {},
     "output_type": "execute_result"
    }
   ],
   "source": [
    "g1.graph"
   ]
  },
  {
   "cell_type": "code",
   "execution_count": null,
   "id": "51dffc52",
   "metadata": {},
   "outputs": [],
   "source": []
  },
  {
   "cell_type": "code",
   "execution_count": null,
   "id": "52cf2343",
   "metadata": {},
   "outputs": [],
   "source": []
  },
  {
   "cell_type": "code",
   "execution_count": null,
   "id": "fe7a469c",
   "metadata": {},
   "outputs": [],
   "source": []
  },
  {
   "cell_type": "code",
   "execution_count": null,
   "id": "7c934c9a",
   "metadata": {},
   "outputs": [],
   "source": []
  },
  {
   "cell_type": "code",
   "execution_count": null,
   "id": "286b8d55",
   "metadata": {},
   "outputs": [],
   "source": []
  },
  {
   "cell_type": "code",
   "execution_count": null,
   "id": "9b3c78d6",
   "metadata": {},
   "outputs": [],
   "source": []
  }
 ],
 "metadata": {
  "kernelspec": {
   "display_name": "Python 3 (ipykernel)",
   "language": "python",
   "name": "python3"
  },
  "language_info": {
   "codemirror_mode": {
    "name": "ipython",
    "version": 3
   },
   "file_extension": ".py",
   "mimetype": "text/x-python",
   "name": "python",
   "nbconvert_exporter": "python",
   "pygments_lexer": "ipython3",
   "version": "3.10.6"
  }
 },
 "nbformat": 4,
 "nbformat_minor": 5
}
