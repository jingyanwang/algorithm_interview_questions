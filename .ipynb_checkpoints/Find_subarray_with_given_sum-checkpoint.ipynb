{
 "cells": [
  {
   "cell_type": "markdown",
   "id": "07279ab4",
   "metadata": {},
   "source": [
    "https://www.geeksforgeeks.org/find-subarray-with-given-sum/"
   ]
  },
  {
   "cell_type": "code",
   "execution_count": 2,
   "id": "b0effe13",
   "metadata": {},
   "outputs": [],
   "source": [
    "def subAarraySum(\n",
    "    arr,\n",
    "    n, \n",
    "    sum_\n",
    "    ):\n",
    "    \n",
    "    currentSum = arr[0]\n",
    "    start = 0\n",
    "    \n",
    "    i = 1\n",
    "    while i <= n:\n",
    "        \n",
    "        while currentSum > sum_ and start < i-1:\n",
    "            currentSum = currentSum - arr[start]\n",
    "            start +=1\n",
    "        \n",
    "        if currentSum == sum_:\n",
    "            print('%d and %d'%(start, i-1))\n",
    "            return 1\n",
    "        \n",
    "        if i < n :\n",
    "            currentSum += arr[i]\n",
    "            i += 1\n",
    "    \n",
    "    print('no subarray found')"
   ]
  },
  {
   "cell_type": "code",
   "execution_count": 3,
   "id": "59f64911",
   "metadata": {},
   "outputs": [
    {
     "name": "stdout",
     "output_type": "stream",
     "text": [
      "1 and 4\n"
     ]
    }
   ],
   "source": [
    "if __name__ == \"__main__\":\n",
    "    arr = [15, 2, 4, 8, 9, 5, 10, 23]\n",
    "    n = len(arr)\n",
    "    sum_ = 23\n",
    "    \n",
    "    subAarraySum(\n",
    "    arr,\n",
    "    n, \n",
    "    sum_\n",
    "    )"
   ]
  },
  {
   "cell_type": "code",
   "execution_count": null,
   "id": "384a2e39",
   "metadata": {},
   "outputs": [],
   "source": []
  },
  {
   "cell_type": "code",
   "execution_count": null,
   "id": "fad106b1",
   "metadata": {},
   "outputs": [],
   "source": []
  }
 ],
 "metadata": {
  "kernelspec": {
   "display_name": "Python 3 (ipykernel)",
   "language": "python",
   "name": "python3"
  },
  "language_info": {
   "codemirror_mode": {
    "name": "ipython",
    "version": 3
   },
   "file_extension": ".py",
   "mimetype": "text/x-python",
   "name": "python",
   "nbconvert_exporter": "python",
   "pygments_lexer": "ipython3",
   "version": "3.10.6"
  }
 },
 "nbformat": 4,
 "nbformat_minor": 5
}
