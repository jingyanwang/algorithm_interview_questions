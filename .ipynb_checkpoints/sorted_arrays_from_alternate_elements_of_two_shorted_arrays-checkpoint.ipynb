{
 "cells": [
  {
   "cell_type": "markdown",
   "id": "4c7db56d",
   "metadata": {},
   "source": [
    "https://www.geeksforgeeks.org/bridge-in-a-graph/"
   ]
  },
  {
   "cell_type": "code",
   "execution_count": 1,
   "id": "0af6183b",
   "metadata": {},
   "outputs": [],
   "source": [
    "from collections import defaultdict"
   ]
  },
  {
   "cell_type": "code",
   "execution_count": 4,
   "id": "537642ad",
   "metadata": {},
   "outputs": [],
   "source": [
    "class Graph:\n",
    "    \n",
    "    def __init__(\n",
    "        self,\n",
    "        vertices,\n",
    "        ):\n",
    "        \n",
    "        \n",
    "        self.V = vertices\n",
    "        self.graph = defaultdict(list)\n",
    "        self.Time = 0\n",
    "        \n",
    "    def addEdge(\n",
    "        self,\n",
    "        u, \n",
    "        v,\n",
    "        ):\n",
    "        \n",
    "        self.graph[u].append(v)\n",
    "        self.graph[v].append(u)"
   ]
  },
  {
   "cell_type": "code",
   "execution_count": 7,
   "id": "7e089b64",
   "metadata": {},
   "outputs": [],
   "source": [
    "g1 = Graph(5)\n",
    "g1.addEdge(1, 0)\n",
    "g1.addEdge(0, 2)\n",
    "g1.addEdge(2, 1)\n",
    "g1.addEdge(0, 3)\n",
    "g1.addEdge(3, 4)"
   ]
  },
  {
   "cell_type": "code",
   "execution_count": 9,
   "id": "ae4719f8",
   "metadata": {},
   "outputs": [
    {
     "data": {
      "text/plain": [
       "defaultdict(list, {1: [0, 2], 0: [1, 2, 3], 2: [0, 1], 3: [0, 4], 4: [3]})"
      ]
     },
     "execution_count": 9,
     "metadata": {},
     "output_type": "execute_result"
    }
   ],
   "source": [
    "g1.graph"
   ]
  },
  {
   "cell_type": "code",
   "execution_count": null,
   "id": "370db988",
   "metadata": {},
   "outputs": [],
   "source": []
  },
  {
   "cell_type": "code",
   "execution_count": null,
   "id": "a1b814ab",
   "metadata": {},
   "outputs": [],
   "source": []
  },
  {
   "cell_type": "code",
   "execution_count": null,
   "id": "60ed351f",
   "metadata": {},
   "outputs": [],
   "source": []
  },
  {
   "cell_type": "code",
   "execution_count": null,
   "id": "6b419a7e",
   "metadata": {},
   "outputs": [],
   "source": []
  },
  {
   "cell_type": "code",
   "execution_count": null,
   "id": "dc9cc965",
   "metadata": {},
   "outputs": [],
   "source": []
  },
  {
   "cell_type": "code",
   "execution_count": null,
   "id": "86c689d4",
   "metadata": {},
   "outputs": [],
   "source": []
  }
 ],
 "metadata": {
  "kernelspec": {
   "display_name": "Python 3 (ipykernel)",
   "language": "python",
   "name": "python3"
  },
  "language_info": {
   "codemirror_mode": {
    "name": "ipython",
    "version": 3
   },
   "file_extension": ".py",
   "mimetype": "text/x-python",
   "name": "python",
   "nbconvert_exporter": "python",
   "pygments_lexer": "ipython3",
   "version": "3.10.6"
  }
 },
 "nbformat": 4,
 "nbformat_minor": 5
}
