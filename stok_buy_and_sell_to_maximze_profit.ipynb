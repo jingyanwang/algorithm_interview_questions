{
 "cells": [
  {
   "cell_type": "markdown",
   "id": "a5278bdf",
   "metadata": {},
   "source": [
    "https://www.geeksforgeeks.org/stock-buy-sell/"
   ]
  },
  {
   "cell_type": "code",
   "execution_count": 3,
   "id": "bf7ea905",
   "metadata": {},
   "outputs": [],
   "source": [
    "def max_profite(\n",
    "    prices: list,\n",
    "    days: int,\n",
    "    ) -> int:\n",
    "    \n",
    "    profit = 0\n",
    "    \n",
    "    for i in range(1, days):\n",
    "        \n",
    "        if prices[i] > prices[i-1]:\n",
    "            profit += prices[i] - prices[i-1]\n",
    "            \n",
    "    return profit"
   ]
  },
  {
   "cell_type": "code",
   "execution_count": 1,
   "id": "7d78e861",
   "metadata": {},
   "outputs": [],
   "source": [
    "price = [100, 180, 260, 310, 40, 535, 695]\n",
    "n = len(price)"
   ]
  },
  {
   "cell_type": "code",
   "execution_count": 4,
   "id": "c98127a6",
   "metadata": {},
   "outputs": [
    {
     "data": {
      "text/plain": [
       "865"
      ]
     },
     "execution_count": 4,
     "metadata": {},
     "output_type": "execute_result"
    }
   ],
   "source": [
    "max_profite(\n",
    "    price,\n",
    "    n\n",
    "    )"
   ]
  },
  {
   "cell_type": "markdown",
   "id": "448d5120",
   "metadata": {},
   "source": [
    "time complexity $O(n)$"
   ]
  },
  {
   "cell_type": "markdown",
   "id": "2eda4ff0",
   "metadata": {},
   "source": [
    "auxiliary space $O(1)$"
   ]
  }
 ],
 "metadata": {
  "kernelspec": {
   "display_name": "Python 3 (ipykernel)",
   "language": "python",
   "name": "python3"
  },
  "language_info": {
   "codemirror_mode": {
    "name": "ipython",
    "version": 3
   },
   "file_extension": ".py",
   "mimetype": "text/x-python",
   "name": "python",
   "nbconvert_exporter": "python",
   "pygments_lexer": "ipython3",
   "version": "3.10.6"
  }
 },
 "nbformat": 4,
 "nbformat_minor": 5
}
