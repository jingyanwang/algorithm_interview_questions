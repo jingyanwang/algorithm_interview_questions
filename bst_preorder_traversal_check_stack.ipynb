{
 "cells": [
  {
   "cell_type": "markdown",
   "id": "ac02cb72",
   "metadata": {},
   "source": [
    "https://www.geeksforgeeks.org/check-if-a-given-array-can-represent-preorder-traversal-of-binary-search-tree/"
   ]
  },
  {
   "cell_type": "code",
   "execution_count": 1,
   "id": "dc77629b",
   "metadata": {},
   "outputs": [],
   "source": [
    "import sys"
   ]
  },
  {
   "cell_type": "code",
   "execution_count": 7,
   "id": "f4d359d3",
   "metadata": {},
   "outputs": [],
   "source": [
    "INF_MIN = -sys.maxsize"
   ]
  },
  {
   "cell_type": "code",
   "execution_count": 9,
   "id": "75126779",
   "metadata": {},
   "outputs": [],
   "source": [
    "def canPresentBST(\n",
    "    pre,\n",
    "    ):\n",
    "    \n",
    "    s = []\n",
    "    \n",
    "    root = INF_MIN\n",
    "    \n",
    "    for value in pre:\n",
    "        \n",
    "        if value < root:\n",
    "            return False\n",
    "        \n",
    "        while(\n",
    "            len(s) > 0 \n",
    "            and \n",
    "            s[-1] < value\n",
    "            ):\n",
    "            \n",
    "            root = s.pop()\n",
    "        \n",
    "        s.append(value)\n",
    "        \n",
    "    return True"
   ]
  },
  {
   "cell_type": "code",
   "execution_count": 10,
   "id": "34c5bb5d",
   "metadata": {},
   "outputs": [
    {
     "name": "stdout",
     "output_type": "stream",
     "text": [
      "True\n"
     ]
    }
   ],
   "source": [
    "preorder1 = [ 2, 4, 3 ]\n",
    "\n",
    "print(canPresentBST(preorder1))"
   ]
  },
  {
   "cell_type": "code",
   "execution_count": 5,
   "id": "7ea70088",
   "metadata": {},
   "outputs": [
    {
     "name": "stdout",
     "output_type": "stream",
     "text": [
      "False\n"
     ]
    }
   ],
   "source": [
    "preorder1 = [ 5, 3, 4, 1, 6, 10 ]\n",
    "n1 = len(preorder1)\n",
    "\n",
    "preIndex = 0\n",
    "\n",
    "print(canPresentBST(preorder1, n1))"
   ]
  },
  {
   "cell_type": "code",
   "execution_count": 6,
   "id": "8cd54f07",
   "metadata": {},
   "outputs": [
    {
     "name": "stdout",
     "output_type": "stream",
     "text": [
      "True\n"
     ]
    }
   ],
   "source": [
    "preorder1 = [ 5, 3, 4, 8, 6, 10 ]\n",
    "n1 = len(preorder1)\n",
    "\n",
    "preIndex = 0\n",
    "\n",
    "print(canPresentBST(preorder1, n1))"
   ]
  }
 ],
 "metadata": {
  "kernelspec": {
   "display_name": "Python 3 (ipykernel)",
   "language": "python",
   "name": "python3"
  },
  "language_info": {
   "codemirror_mode": {
    "name": "ipython",
    "version": 3
   },
   "file_extension": ".py",
   "mimetype": "text/x-python",
   "name": "python",
   "nbconvert_exporter": "python",
   "pygments_lexer": "ipython3",
   "version": "3.10.6"
  }
 },
 "nbformat": 4,
 "nbformat_minor": 5
}
