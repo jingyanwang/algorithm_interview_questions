{
 "cells": [
  {
   "cell_type": "code",
   "execution_count": 1,
   "id": "56f416a0",
   "metadata": {},
   "outputs": [],
   "source": [
    "class Node:\n",
    "    \n",
    "    def __init__(\n",
    "        self,\n",
    "        data,\n",
    "        ):\n",
    "        self.data = data\n",
    "        self.next = None"
   ]
  },
  {
   "cell_type": "code",
   "execution_count": 2,
   "id": "1c9451b2",
   "metadata": {},
   "outputs": [],
   "source": [
    "class LinkedList:\n",
    "    \n",
    "    def __init__(\n",
    "        self,\n",
    "        ):\n",
    "        self.head = None\n",
    "        \n",
    "    def sortedInsert(\n",
    "        self,\n",
    "        new_node,\n",
    "        ):\n",
    "        \n",
    "        if self.head is None:\n",
    "            self.head = new_node\n",
    "            new_node.next = None\n",
    "            return \n",
    "        \n",
    "        if self.head.data >= new_node.data:\n",
    "            new_node.next = self.head\n",
    "            self.head = new_node\n",
    "            return \n",
    "        \n",
    "        current = self.head\n",
    "        \n",
    "        while(\n",
    "            current.next is not None\n",
    "            and current.next.data < new_node.data\n",
    "            ):\n",
    "            current = current.next\n",
    "        \n",
    "        new_node.next = current.next\n",
    "        current.next = new_node     \n",
    "        \n",
    "        return \n",
    "    \n",
    "    def printList(\n",
    "        self,\n",
    "        ):\n",
    "        \n",
    "        current = self.head\n",
    "        while(current is not None):\n",
    "            print(current.data, end = \"->\")\n",
    "            current = current.next\n",
    "            "
   ]
  },
  {
   "cell_type": "code",
   "execution_count": 3,
   "id": "0f1d1474",
   "metadata": {},
   "outputs": [
    {
     "data": {
      "text/plain": [
       "<bound method LinkedList.sortedInsert of <__main__.LinkedList object at 0x00000238DE347640>>"
      ]
     },
     "execution_count": 3,
     "metadata": {},
     "output_type": "execute_result"
    }
   ],
   "source": [
    "llist = LinkedList()\n",
    "llist.sortedInsert"
   ]
  },
  {
   "cell_type": "code",
   "execution_count": 4,
   "id": "b5fd0ae3",
   "metadata": {},
   "outputs": [],
   "source": [
    "llist = LinkedList()\n",
    "new_node = Node(5)\n",
    "llist.sortedInsert(new_node)\n",
    "new_node = Node(10)\n",
    "llist.sortedInsert(new_node)\n",
    "new_node = Node(7)\n",
    "llist.sortedInsert(new_node)\n",
    "new_node = Node(3)\n",
    "llist.sortedInsert(new_node)\n",
    "new_node = Node(1)\n",
    "llist.sortedInsert(new_node)\n",
    "new_node = Node(9)\n",
    "llist.sortedInsert(new_node)"
   ]
  },
  {
   "cell_type": "code",
   "execution_count": 6,
   "id": "f7484dd6",
   "metadata": {},
   "outputs": [
    {
     "name": "stdout",
     "output_type": "stream",
     "text": [
      "1->3->5->7->9->10->"
     ]
    }
   ],
   "source": [
    "llist.printList()"
   ]
  }
 ],
 "metadata": {
  "kernelspec": {
   "display_name": "Python 3 (ipykernel)",
   "language": "python",
   "name": "python3"
  },
  "language_info": {
   "codemirror_mode": {
    "name": "ipython",
    "version": 3
   },
   "file_extension": ".py",
   "mimetype": "text/x-python",
   "name": "python",
   "nbconvert_exporter": "python",
   "pygments_lexer": "ipython3",
   "version": "3.10.6"
  }
 },
 "nbformat": 4,
 "nbformat_minor": 5
}
