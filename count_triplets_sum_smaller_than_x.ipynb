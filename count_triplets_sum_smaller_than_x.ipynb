{
 "cells": [
  {
   "cell_type": "code",
   "execution_count": 5,
   "id": "dc44bbf5",
   "metadata": {},
   "outputs": [],
   "source": [
    "def countTriplets(arr, n, sum):\n",
    "    \n",
    "    arr.sort()\n",
    "    \n",
    "    ans = 0\n",
    "    \n",
    "    for i in range(0,n-2):\n",
    "        \n",
    "        j = i+1\n",
    "        k = n-1\n",
    "        \n",
    "        while(k>j):\n",
    "        \n",
    "            if(arr[i]+arr[j]+arr[k] >= sum):\n",
    "\n",
    "                k -=1\n",
    "\n",
    "            if(arr[i]+arr[j]+arr[k] < sum):\n",
    "                ans += (k-j)\n",
    "                j +=1\n",
    "\n",
    "        \n",
    "    return ans\n",
    "        "
   ]
  },
  {
   "cell_type": "code",
   "execution_count": 6,
   "id": "a3accea6",
   "metadata": {},
   "outputs": [
    {
     "name": "stdout",
     "output_type": "stream",
     "text": [
      "4\n"
     ]
    }
   ],
   "source": [
    "arr = [5, 1, 3, 4, 7]\n",
    "n = len(arr)\n",
    "sum = 12\n",
    "print(countTriplets(arr, n, sum))"
   ]
  }
 ],
 "metadata": {
  "kernelspec": {
   "display_name": "Python 3 (ipykernel)",
   "language": "python",
   "name": "python3"
  },
  "language_info": {
   "codemirror_mode": {
    "name": "ipython",
    "version": 3
   },
   "file_extension": ".py",
   "mimetype": "text/x-python",
   "name": "python",
   "nbconvert_exporter": "python",
   "pygments_lexer": "ipython3",
   "version": "3.10.6"
  }
 },
 "nbformat": 4,
 "nbformat_minor": 5
}
