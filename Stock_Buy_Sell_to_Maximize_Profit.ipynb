{
 "cells": [
  {
   "cell_type": "markdown",
   "id": "12268225",
   "metadata": {},
   "source": [
    "https://www.geeksforgeeks.org/stock-buy-sell/"
   ]
  },
  {
   "cell_type": "code",
   "execution_count": 1,
   "id": "c67abc8e",
   "metadata": {},
   "outputs": [],
   "source": [
    "def stockBuySell(\n",
    "    price, \n",
    "    n,\n",
    "    ):\n",
    "    \n",
    "    if n == 1:\n",
    "        return \n",
    "    \n",
    "    i = 0\n",
    "    while(i<(n-1)):\n",
    "        \n",
    "        while(i<(n-1) and (price[i+1]<=price[i])):\n",
    "            i+=1\n",
    "        \n",
    "        if(i == n-1):\n",
    "            break\n",
    "        \n",
    "        buy = i\n",
    "        i += 1\n",
    "        \n",
    "        while(i<n and (price[i]>price[i-1])):\n",
    "            i+=1\n",
    "        \n",
    "        sell = i-1\n",
    "        \n",
    "        print(f'buy on {buy} and sell on {sell}')"
   ]
  },
  {
   "cell_type": "code",
   "execution_count": 2,
   "id": "b13ca80d",
   "metadata": {},
   "outputs": [],
   "source": [
    "price = [100, 180, 260, 310, 40, 535, 695]\n",
    "n = len(price)"
   ]
  },
  {
   "cell_type": "code",
   "execution_count": 3,
   "id": "2dd4fd64",
   "metadata": {},
   "outputs": [
    {
     "name": "stdout",
     "output_type": "stream",
     "text": [
      "buy on 0 and sell on 3\n",
      "buy on 4 and sell on 6\n"
     ]
    }
   ],
   "source": [
    "stockBuySell(\n",
    "    price, \n",
    "    n,\n",
    "    )"
   ]
  }
 ],
 "metadata": {
  "kernelspec": {
   "display_name": "Python 3 (ipykernel)",
   "language": "python",
   "name": "python3"
  },
  "language_info": {
   "codemirror_mode": {
    "name": "ipython",
    "version": 3
   },
   "file_extension": ".py",
   "mimetype": "text/x-python",
   "name": "python",
   "nbconvert_exporter": "python",
   "pygments_lexer": "ipython3",
   "version": "3.10.6"
  }
 },
 "nbformat": 4,
 "nbformat_minor": 5
}
